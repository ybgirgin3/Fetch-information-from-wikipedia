{
 "cells": [
  {
   "cell_type": "code",
   "execution_count": 16,
   "id": "61df250a",
   "metadata": {},
   "outputs": [],
   "source": [
    "from selenium import webdriver\n",
    "from selenium.webdriver.common.by import By\n",
    "from selenium.webdriver.common.keys import Keys\n",
    "from selenium.webdriver.support.ui import WebDriverWait\n",
    "from selenium.webdriver.support.expected_conditions import presence_of_element_located\n",
    "from selenium.webdriver.chrome.options import Options"
   ]
  },
  {
   "cell_type": "code",
   "execution_count": 44,
   "id": "5798b7e6",
   "metadata": {},
   "outputs": [],
   "source": [
    "from selenium import webdriver\n",
    "from selenium.webdriver.common.by import By\n",
    "import time\n",
    "\n",
    "def get_brands(query):\n",
    "    driver = webdriver.Chrome()\n",
    "    #driver.get(\"https://www.wikipedia.org/\")\n",
    "    #driver.get(f\"https://www.wikipedia.org/wiki/Kategori:{str(query)}\")\n",
    "    driver.get(\"https://www.wikipedia.org/wiki/Category:{}\".format(query))\n",
    "    #searchbox = driver.find_element(By.NAME, \"search\").send_keys(str(query) + Keys.RETURN)\n",
    "    driver.find_element\n"
   ]
  },
  {
   "cell_type": "code",
   "execution_count": 45,
   "id": "177ab519",
   "metadata": {},
   "outputs": [],
   "source": [
    "get_brands(\"German brands\")"
   ]
  },
  {
   "cell_type": "code",
   "execution_count": null,
   "id": "044c8fba",
   "metadata": {},
   "outputs": [],
   "source": []
  }
 ],
 "metadata": {
  "kernelspec": {
   "display_name": "development",
   "language": "python",
   "name": "development"
  },
  "language_info": {
   "codemirror_mode": {
    "name": "ipython",
    "version": 3
   },
   "file_extension": ".py",
   "mimetype": "text/x-python",
   "name": "python",
   "nbconvert_exporter": "python",
   "pygments_lexer": "ipython3",
   "version": "3.8.11"
  }
 },
 "nbformat": 4,
 "nbformat_minor": 5
}

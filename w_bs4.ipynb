{
 "cells": [
  {
   "cell_type": "code",
   "execution_count": 44,
   "source": [
    "from bs4 import BeautifulSoup as BS\n",
    "from urllib.parse import urlparse\n",
    "from urllib.request import urlopen\n",
    "import requests\n",
    "import sys\n",
    "import os"
   ],
   "outputs": [],
   "metadata": {}
  },
  {
   "cell_type": "code",
   "execution_count": 69,
   "source": [
    "def get_links(link: str, query: str) -> list:\n",
    "    all_fetched_links = []\n",
    "    webpage = requests.get(f\"{link}/wiki/Category:{query}\")\n",
    "\n",
    "    soup = BS(webpage.content, \"html.parser\")\n",
    "    if not soup:\n",
    "        return False\n",
    "    else:\n",
    "        # find div\n",
    "        # find ul in div\n",
    "        # find li in ul\n",
    "        for links in soup.find_all(\"div\", {\"class\": \"mw-content-ltr\"}):\n",
    "            for ul in links.find_all(\"ul\"):\n",
    "                for li in ul.find_all(\"li\"):\n",
    "                    for a in li.find_all(\"a\"):\n",
    "                        # if not a['href'].startswith('https://'):\n",
    "                        # print(a['href'])\n",
    "                        if not a[\"href\"].startswith(\"https://\"):\n",
    "                            all_fetched_links.append(a[\"href\"])\n",
    "                        else:\n",
    "                            pass\n",
    "\n",
    "        return all_fetched_links\n",
    "\n",
    "\n",
    "def control(fn):\n",
    "    if os.path.isfile(fn) and os.access(fn, os.R_OK):\n",
    "        return True\n",
    "    else:\n",
    "        return False\n",
    "\n",
    "\n",
    "def look_for_file(fn):\n",
    "    # fn = f\"sub/{filename}.txt\"\n",
    "    if control(fn):\n",
    "        ask = str(input(f\"file is exists do you want to override? {fn} [Y/n]: \"))\n",
    "        if ask in (\"Y\", \"y\"):\n",
    "            os.remove(fn)\n",
    "            return fn\n",
    "\n",
    "        elif ask in (\"N\", \"n\"):\n",
    "            print(\"stopped..\")\n",
    "            sys.exit(1)\n",
    "\n",
    "\n",
    " \n",
    "\n",
    "def write_to_file(web_source: str, subdir: str, q: str, data: list) -> None:\n",
    "    # if file exist ask user\n",
    "    # parse main url\n",
    "    webpage = urlparse(web_source)\n",
    "    url = f\"{webpage[0]}://{webpage[1]}\"\n",
    "\n",
    "    # fn = look_for_file(f\"sub/{q}.txt\")\n",
    "    fn = f\"{os.path.join(subdir, q)}.txt\"\n",
    "    look_for_file(fn)\n",
    "    print(fn)\n",
    "\n",
    "    with open(str(fn), \"w\") as f:\n",
    "        for link in data:\n",
    "            f.write(f\"{url}/{link}\\n\")\n",
    "        print(\"done.. 👍🏻\")"
   ],
   "outputs": [],
   "metadata": {}
  },
  {
   "cell_type": "code",
   "execution_count": 70,
   "source": [
    "def get_text(src: str) -> list:\n",
    "    if control(src):\n",
    "        with open(src, \"r\") as f:\n",
    "            return f.readlines()\n",
    "    else:\n",
    "        print(f\"file not exists {fn}\")\n",
    "\n",
    "\n",
    "\n",
    "def get_information(urls: list, info_dir: str) -> None:\n",
    "    look_for_file(info_dir)\n",
    "\n",
    "    for url in urls:\n",
    "        if \"Category\" not in url:\n",
    "            # fn = url.split('/')[-1]\n",
    "            html = urlopen(url).read()\n",
    "            soup = BS(html, features=\"html.parser\")\n",
    "            page = soup.find(\"p\").get_text()\n",
    "            # print(page)\n",
    "            with open(f\"{info_dir}\", \"a\") as f:\n",
    "                f.write(\"{}\\n\".format(\"-\" * 40))\n",
    "                f.write(f\"{page}\")\n"
   ],
   "outputs": [],
   "metadata": {}
  },
  {
   "cell_type": "code",
   "execution_count": 71,
   "source": [
    "# variables\n",
    "q = \"Spanish brands\"\n",
    "# q = sys.argv[1]\n",
    "sub_dir = os.path.join(\"sub\", f\"{q}.txt\")\n",
    "info_dir = os.path.join(\"info\", f\"{q}_info.txt\")\n",
    "link = \"https://en.wikipedia.org\"\n",
    "# get url list\n",
    "url_list = get_links(link, q)\n",
    "# write to file\n",
    "write_to_file(link, \"sub\", q, url_list)\n",
    "sub_list = get_text(sub_dir)\n",
    "get_information(sub_list, info_dir)\n"
   ],
   "outputs": [
    {
     "output_type": "stream",
     "name": "stdout",
     "text": [
      "None\n"
     ]
    },
    {
     "output_type": "error",
     "ename": "TypeError",
     "evalue": "expected str, bytes or os.PathLike object, not NoneType",
     "traceback": [
      "\u001b[0;31m---------------------------------------------------------------------------\u001b[0m",
      "\u001b[0;31mTypeError\u001b[0m                                 Traceback (most recent call last)",
      "\u001b[0;32m/tmp/ipykernel_26078/2600444099.py\u001b[0m in \u001b[0;36m<module>\u001b[0;34m\u001b[0m\n\u001b[1;32m      7\u001b[0m \u001b[0;31m# calling funcs\u001b[0m\u001b[0;34m\u001b[0m\u001b[0;34m\u001b[0m\u001b[0;34m\u001b[0m\u001b[0m\n\u001b[1;32m      8\u001b[0m \u001b[0mret\u001b[0m \u001b[0;34m=\u001b[0m \u001b[0mget_links\u001b[0m\u001b[0;34m(\u001b[0m\u001b[0mlink\u001b[0m\u001b[0;34m,\u001b[0m \u001b[0mq\u001b[0m\u001b[0;34m)\u001b[0m\u001b[0;34m\u001b[0m\u001b[0;34m\u001b[0m\u001b[0m\n\u001b[0;32m----> 9\u001b[0;31m \u001b[0mwrite_to_file\u001b[0m\u001b[0;34m(\u001b[0m\u001b[0mlink\u001b[0m\u001b[0;34m,\u001b[0m \u001b[0msub_dir\u001b[0m\u001b[0;34m,\u001b[0m \u001b[0mq\u001b[0m\u001b[0;34m,\u001b[0m \u001b[0mret\u001b[0m\u001b[0;34m)\u001b[0m\u001b[0;34m\u001b[0m\u001b[0;34m\u001b[0m\u001b[0m\n\u001b[0m",
      "\u001b[0;32m/tmp/ipykernel_26078/1504674495.py\u001b[0m in \u001b[0;36mwrite_to_file\u001b[0;34m(web_source, subdir, q, data)\u001b[0m\n\u001b[1;32m     51\u001b[0m     \u001b[0mprint\u001b[0m\u001b[0;34m(\u001b[0m\u001b[0mfn\u001b[0m\u001b[0;34m)\u001b[0m\u001b[0;34m\u001b[0m\u001b[0;34m\u001b[0m\u001b[0m\n\u001b[1;32m     52\u001b[0m \u001b[0;34m\u001b[0m\u001b[0m\n\u001b[0;32m---> 53\u001b[0;31m     \u001b[0;32mwith\u001b[0m \u001b[0mopen\u001b[0m\u001b[0;34m(\u001b[0m\u001b[0mfn\u001b[0m\u001b[0;34m,\u001b[0m \u001b[0;34m\"w\"\u001b[0m\u001b[0;34m)\u001b[0m \u001b[0;32mas\u001b[0m \u001b[0mf\u001b[0m\u001b[0;34m:\u001b[0m\u001b[0;34m\u001b[0m\u001b[0;34m\u001b[0m\u001b[0m\n\u001b[0m\u001b[1;32m     54\u001b[0m         \u001b[0;32mfor\u001b[0m \u001b[0mlink\u001b[0m \u001b[0;32min\u001b[0m \u001b[0mdata\u001b[0m\u001b[0;34m:\u001b[0m\u001b[0;34m\u001b[0m\u001b[0;34m\u001b[0m\u001b[0m\n\u001b[1;32m     55\u001b[0m             \u001b[0mf\u001b[0m\u001b[0;34m.\u001b[0m\u001b[0mwrite\u001b[0m\u001b[0;34m(\u001b[0m\u001b[0;34mf\"{url}/{link}\\n\"\u001b[0m\u001b[0;34m)\u001b[0m\u001b[0;34m\u001b[0m\u001b[0;34m\u001b[0m\u001b[0m\n",
      "\u001b[0;31mTypeError\u001b[0m: expected str, bytes or os.PathLike object, not NoneType"
     ]
    }
   ],
   "metadata": {}
  },
  {
   "cell_type": "code",
   "execution_count": null,
   "source": [],
   "outputs": [],
   "metadata": {}
  }
 ],
 "metadata": {
  "orig_nbformat": 4,
  "language_info": {
   "name": "python",
   "version": "3.8.11",
   "mimetype": "text/x-python",
   "codemirror_mode": {
    "name": "ipython",
    "version": 3
   },
   "pygments_lexer": "ipython3",
   "nbconvert_exporter": "python",
   "file_extension": ".py"
  },
  "kernelspec": {
   "name": "python3",
   "display_name": "Python 3.8.11 64-bit ('development': conda)"
  },
  "interpreter": {
   "hash": "23bd420e15c2378d62c5098b92f189ec9749bf27de054c2d96f6a38af64c2ee7"
  }
 },
 "nbformat": 4,
 "nbformat_minor": 2
}
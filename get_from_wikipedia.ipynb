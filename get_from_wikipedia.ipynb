{
 "cells": [
  {
   "cell_type": "code",
   "execution_count": 16,
   "source": [
    "from selenium import webdriver\n",
    "from selenium.webdriver.common.by import By\n",
    "from selenium.webdriver.common.keys import Keys\n",
    "from selenium.webdriver.support.ui import WebDriverWait\n",
    "from selenium.webdriver.support.expected_conditions import presence_of_element_located\n",
    "from selenium.webdriver.chrome.options import Options"
   ],
   "outputs": [],
   "metadata": {}
  },
  {
   "cell_type": "code",
   "execution_count": 7,
   "source": [
    "from selenium import webdriver\n",
    "from selenium.webdriver.common.by import By\n",
    "import time\n",
    "\n",
    "def get_brands(query):\n",
    "    driver = webdriver.Chrome()\n",
    "    #driver.get(\"https://www.wikipedia.org/\")\n",
    "    #driver.get(f\"https://www.wikipedia.org/wiki/Kategori:{str(query)}\")\n",
    "    driver.get(\"https://www.wikipedia.org/wiki/Category:{}\".format(query))\n",
    "    #searchbox = driver.find_element(By.NAME, \"search\").send_keys(str(query) + Keys.RETURN)\n",
    "    # driver.find_element(By.XPATH, '//*[@id=\"mw-pages\"]/div/div/div[2]/ul/li[1]/a')\n",
    "    # for a in driver.find_elements_by_xpath('//*[@id=\"mw-pages\"]/div/div/div[2]/ul/li[1]/a'):\n",
    "    #     print(a.get_attribute('href'))\n",
    "        \n",
    "    for a in driver.find_elements_by_xpath('.//a'):\n",
    "        print(a.get_attribute('href'))"
   ],
   "outputs": [],
   "metadata": {}
  },
  {
   "cell_type": "code",
   "execution_count": 8,
   "source": [
    "get_brands(\"German brands\")"
   ],
   "outputs": [
    {
     "output_type": "stream",
     "name": "stdout",
     "text": [
      "https://en.wikipedia.org/wiki/A%26O_Hotels_and_Hostels\n"
     ]
    }
   ],
   "metadata": {}
  },
  {
   "cell_type": "code",
   "execution_count": null,
   "source": [],
   "outputs": [],
   "metadata": {}
  }
 ],
 "metadata": {
  "kernelspec": {
   "name": "python3",
   "display_name": "Python 3.8.11 64-bit ('development': conda)"
  },
  "language_info": {
   "codemirror_mode": {
    "name": "ipython",
    "version": 3
   },
   "file_extension": ".py",
   "mimetype": "text/x-python",
   "name": "python",
   "nbconvert_exporter": "python",
   "pygments_lexer": "ipython3",
   "version": "3.8.11"
  },
  "interpreter": {
   "hash": "23bd420e15c2378d62c5098b92f189ec9749bf27de054c2d96f6a38af64c2ee7"
  }
 },
 "nbformat": 4,
 "nbformat_minor": 5
}